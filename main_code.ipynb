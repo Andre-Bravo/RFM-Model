{
 "cells": [
  {
   "cell_type": "markdown",
   "metadata": {},
   "source": [
    "# RFM Model"
   ]
  },
  {
   "cell_type": "code",
   "execution_count": 1,
   "metadata": {},
   "outputs": [],
   "source": [
    "import numpy as np\n",
    "import pandas as pd\n",
    "from datetime import timedelta\n",
    "import matplotlib.pyplot as plt\n",
    "import seaborn as sns\n",
    "import squarify\n",
    "import zipfile37 as zipfile"
   ]
  },
  {
   "cell_type": "code",
   "execution_count": 2,
   "metadata": {},
   "outputs": [],
   "source": [
    "from dateutil.relativedelta import relativedelta"
   ]
  },
  {
   "cell_type": "code",
   "execution_count": 3,
   "metadata": {},
   "outputs": [],
   "source": [
    "ecomm = pd.read_csv('data.csv',\n",
    "                    encoding='ISO-8859-1')"
   ]
  },
  {
   "cell_type": "code",
   "execution_count": null,
   "metadata": {},
   "outputs": [],
   "source": [
    "# InvoiceDate to datetime format\n",
    "ecomm['InvoiceDate'] = pd.to_datetime(ecomm.InvoiceDate)"
   ]
  },
  {
   "cell_type": "code",
   "execution_count": null,
   "metadata": {},
   "outputs": [],
   "source": [
    "print('{:,} rows; {:,} columns'.format(len(ecomm),\n",
    "                                       len(ecomm.columns)))\n",
    "\n",
    "print('{:,}, null CustomerIDs'.format(sum(ecomm.CustomerID.isnull())))\n",
    "\n",
    "print('Invoice dates range from {} to {}'.format(ecomm.InvoiceDate.min(),\n",
    "                                                 ecomm.InvoiceDate.max()))"
   ]
  },
  {
   "cell_type": "code",
   "execution_count": null,
   "metadata": {},
   "outputs": [],
   "source": [
    "ecomm.dropna()"
   ]
  },
  {
   "cell_type": "markdown",
   "metadata": {},
   "source": [
    "## Begin Recency, Frequency, Monetary Sorting"
   ]
  },
  {
   "cell_type": "code",
   "execution_count": null,
   "metadata": {},
   "outputs": [],
   "source": [
    "# Snapshot date as day after max date\n",
    "snapshot_date = ecomm.InvoiceDate.max() + relativedelta(days=1)\n",
    "print(snapshot_date)"
   ]
  },
  {
   "cell_type": "code",
   "execution_count": null,
   "metadata": {},
   "outputs": [],
   "source": [
    "ecomm['GrossSales'] = ecomm.Quantity * ecomm.UnitPrice"
   ]
  },
  {
   "cell_type": "code",
   "execution_count": null,
   "metadata": {},
   "outputs": [],
   "source": [
    "ecomm['InvoiceDate_2'] = ecomm.InvoiceDate"
   ]
  },
  {
   "cell_type": "code",
   "execution_count": null,
   "metadata": {},
   "outputs": [],
   "source": [
    "rfm_vals = ecomm.groupby(['CustomerID']).agg({\n",
    "    'InvoiceDate': lambda x: (snapshot_date - x.max()).days,\n",
    "    'InvoiceNo': 'count',\n",
    "    'GrossSales': 'sum',\n",
    "    'InvoiceDate_2': lambda x: (snapshot_date - x.min()).days,\n",
    "})\n",
    "rfm_vals.rename(columns={'InvoiceDate':'Recency',\n",
    "                         'InvoiceNo':'Frequency',\n",
    "                         'GrossSales':'MonetaryValue',\n",
    "                         'InvoiceDate_2':'Tenure'},\n",
    "                inplace=True)"
   ]
  },
  {
   "cell_type": "code",
   "execution_count": null,
   "metadata": {},
   "outputs": [],
   "source": [
    "rfm_vals"
   ]
  },
  {
   "cell_type": "code",
   "execution_count": null,
   "metadata": {},
   "outputs": [],
   "source": [
    "print(rfm_vals.head(5))\n",
    "print('{:,} rows and {:,} columns'.format(len(rfm_vals),\n",
    "                                          len(rfm_vals.columns)))"
   ]
  },
  {
   "cell_type": "markdown",
   "metadata": {},
   "source": [
    "### Take a look at distributions"
   ]
  },
  {
   "cell_type": "code",
   "execution_count": null,
   "metadata": {},
   "outputs": [],
   "source": [
    "sns.histplot(rfm_vals['Recency'], \n",
    "            kde=True, stat='density')"
   ]
  },
  {
   "cell_type": "code",
   "execution_count": null,
   "metadata": {},
   "outputs": [],
   "source": [
    "fig, axs = plt.subplots(3, figsize=(12,12))\n",
    "sns.histplot(rfm_vals['Recency'], \n",
    "             kde=True, \n",
    "             stat='density',\n",
    "             ax=axs[0])\n",
    "sns.histplot(rfm_vals['Frequency'], \n",
    "             kde=True,\n",
    "             stat='density',\n",
    "             ax=axs[1])\n",
    "sns.histplot(rfm_vals['MonetaryValue'], \n",
    "             kde=True,\n",
    "             stat='density',\n",
    "             ax=axs[2])\n",
    "plt.show()"
   ]
  },
  {
   "cell_type": "markdown",
   "metadata": {},
   "source": [
    "Highly skewed data, particularly in terms of Frequency and Value"
   ]
  },
  {
   "cell_type": "markdown",
   "metadata": {},
   "source": [
    "#### Create quantiles for Recency and Frequency"
   ]
  },
  {
   "cell_type": "code",
   "execution_count": null,
   "metadata": {},
   "outputs": [],
   "source": [
    "r_labels = range(4, 0, -1)\n",
    "f_labels = range(1, 5)\n",
    "m_labels = range(1, 5)\n",
    "\n",
    "\n",
    "r_groups = pd.qcut(rfm_vals['Recency'], \n",
    "                   q=4, \n",
    "                   labels=r_labels)\n",
    "\n",
    "f_groups = pd.qcut(rfm_vals['Frequency'], \n",
    "                   q=4, \n",
    "                   labels=f_labels)\n",
    "\n",
    "m_groups = pd.qcut(rfm_vals['MonetaryValue'], \n",
    "                   q=4, \n",
    "                   labels=f_labels)\n",
    "\n",
    "rfm_vals = rfm_vals.assign(R = r_groups.values,\n",
    "                           F = f_groups.values, \n",
    "                           M = m_groups.values)"
   ]
  },
  {
   "cell_type": "code",
   "execution_count": null,
   "metadata": {},
   "outputs": [],
   "source": [
    "rfm_vals.head()"
   ]
  },
  {
   "cell_type": "markdown",
   "metadata": {},
   "source": [
    "#### Concat to RFM"
   ]
  },
  {
   "cell_type": "code",
   "execution_count": null,
   "metadata": {},
   "outputs": [],
   "source": [
    "def concat_rfm(x):\n",
    "    return str(int(x['R'])) + str(int(x['F'])) + str(int(x['M']))\n",
    "rfm_vals['RFM_concat'] = rfm_vals.apply(concat_rfm,\n",
    "                                        axis=1)"
   ]
  },
  {
   "cell_type": "code",
   "execution_count": null,
   "metadata": {},
   "outputs": [],
   "source": [
    "rfm_vals.head()"
   ]
  },
  {
   "cell_type": "code",
   "execution_count": null,
   "metadata": {},
   "outputs": [],
   "source": [
    "rfm_vals.RFM_concat.nunique()"
   ]
  },
  {
   "cell_type": "code",
   "execution_count": null,
   "metadata": {},
   "outputs": [],
   "source": [
    "rfm_vals['RFM_Score'] = rfm_vals[['R', 'F', 'M']].sum(axis=1)\n",
    "rfm_vals.head()"
   ]
  },
  {
   "cell_type": "code",
   "execution_count": null,
   "metadata": {},
   "outputs": [],
   "source": [
    "# Define RFM Levels\n",
    "def rfm_level(df):\n",
    "    if df['RFM_Score'] >= 9:\n",
    "        return 'Can\\'t Lose Them'\n",
    "    elif 9 > df['RFM_Score'] >= 8:\n",
    "        return 'Champions'\n",
    "    elif 8 > df['RFM_Score'] >= 7:\n",
    "        return 'Loyal'\n",
    "    elif 7 > df['RFM_Score'] >= 6:\n",
    "        return 'Potential'\n",
    "    elif 6 > df['RFM_Score'] >= 5:\n",
    "        return 'Promising'\n",
    "    elif 5 > df['RFM_Score'] >= 4:\n",
    "        return 'Needs Attention'\n",
    "    else:\n",
    "        return 'Require Activation'\n",
    "rfm_vals['RFM_Level'] = rfm_vals.apply(rfm_level,\n",
    "                                        axis=1)\n",
    "rfm_vals.head()"
   ]
  },
  {
   "cell_type": "markdown",
   "metadata": {},
   "source": [
    "#### Grouping by RFM"
   ]
  },
  {
   "cell_type": "code",
   "execution_count": null,
   "metadata": {},
   "outputs": [],
   "source": [
    "rfm_vals"
   ]
  },
  {
   "cell_type": "code",
   "execution_count": null,
   "metadata": {},
   "outputs": [],
   "source": [
    "rfm_groupings = rfm_vals.groupby('RFM_Level').agg({\n",
    "    'Recency': 'mean',\n",
    "    'Frequency': 'mean',\n",
    "    'MonetaryValue': ['mean', 'count']\n",
    "}).round(1)"
   ]
  },
  {
   "cell_type": "code",
   "execution_count": null,
   "metadata": {},
   "outputs": [],
   "source": [
    "rfm_groupings"
   ]
  },
  {
   "cell_type": "markdown",
   "metadata": {},
   "source": [
    "Note, Have not seen Needs Attention in a while, provide promo to bring back? Incentivize larger shopping carts? given low Monetary?\n",
    "Potential very close to Loyal, but need to boost Monetary, promotion based on cart size?\n",
    "Promising, need to bring back to buying, target discount on previously browsed products."
   ]
  },
  {
   "cell_type": "code",
   "execution_count": null,
   "metadata": {},
   "outputs": [],
   "source": [
    "rfm_groupings.columns.droplevel()"
   ]
  },
  {
   "cell_type": "code",
   "execution_count": null,
   "metadata": {},
   "outputs": [],
   "source": [
    "rfm_groupings.columns = rfm_groupings.columns.droplevel()\n",
    "rfm_groupings.columns = ['RecencyMean',\n",
    "                         'FrequencyMean',\n",
    "                         'MonetaryMean',\n",
    "                         'Count']\n",
    "#Create our plot and resize it.\n",
    "fig = plt.gcf()\n",
    "ax = fig.add_subplot()\n",
    "fig.set_size_inches(16, 9)\n",
    "squarify.plot(sizes=rfm_groupings['Count'], \n",
    "              label=rfm_groupings.index, alpha=.6 )\n",
    "plt.title(\"RFM Segments\",fontsize=18,fontweight=\"bold\")\n",
    "plt.axis('off')\n",
    "plt.savefig('docs/RFM_Capture.png')\n",
    "plt.show()"
   ]
  },
  {
   "cell_type": "markdown",
   "metadata": {},
   "source": [
    "## Implement K-Means"
   ]
  },
  {
   "cell_type": "markdown",
   "metadata": {},
   "source": [
    "Add tenute to analysis"
   ]
  },
  {
   "cell_type": "code",
   "execution_count": null,
   "metadata": {},
   "outputs": [],
   "source": [
    "fig, axs = plt.subplots(4, figsize=(12,12))\n",
    "sns.histplot(rfm_vals['Recency'], \n",
    "             kde=True, \n",
    "             stat='density',\n",
    "             ax=axs[0])\n",
    "sns.histplot(rfm_vals['Frequency'], \n",
    "             kde=True,\n",
    "             stat='density',\n",
    "             ax=axs[1])\n",
    "sns.histplot(rfm_vals['MonetaryValue'], \n",
    "             kde=True,\n",
    "             stat='density',\n",
    "             ax=axs[2])\n",
    "sns.histplot(rfm_vals['Tenure'], \n",
    "             kde=True,\n",
    "             stat='density',\n",
    "             ax=axs[3])\n",
    "plt.show()"
   ]
  },
  {
   "cell_type": "markdown",
   "metadata": {},
   "source": [
    "Note the high skew of R, F, M. Log transform data"
   ]
  },
  {
   "cell_type": "code",
   "execution_count": null,
   "metadata": {},
   "outputs": [],
   "source": [
    "recency_log = np.log(rfm_vals['Recency'])\n",
    "frequency_log = np.log(rfm_vals['Frequency'])\n",
    "monetary_log = np.log(\n",
    "    rfm_vals['MonetaryValue'] + 0.0000000001) #due to zeros\n",
    "tenure_log = np.log(rfm_vals['Tenure'])"
   ]
  },
  {
   "cell_type": "code",
   "execution_count": null,
   "metadata": {},
   "outputs": [],
   "source": [
    "fig, axs = plt.subplots(4, figsize=(12,12))\n",
    "sns.histplot(recency_log, \n",
    "             kde=True, \n",
    "             stat='density',\n",
    "             ax=axs[0])\n",
    "sns.histplot(frequency_log, \n",
    "             kde=True,\n",
    "             stat='density',\n",
    "             ax=axs[1])\n",
    "sns.histplot(monetary_log, \n",
    "             kde=True,\n",
    "             stat='density',\n",
    "             ax=axs[2])\n",
    "sns.histplot(tenure_log, \n",
    "             kde=True,\n",
    "             stat='density',\n",
    "             ax=axs[3])\n",
    "plt.show()"
   ]
  },
  {
   "cell_type": "markdown",
   "metadata": {},
   "source": [
    "But note the left-skew of Tenure. Standardization."
   ]
  },
  {
   "cell_type": "code",
   "execution_count": null,
   "metadata": {},
   "outputs": [],
   "source": [
    "rfm_vals.describe()"
   ]
  },
  {
   "cell_type": "code",
   "execution_count": null,
   "metadata": {},
   "outputs": [],
   "source": [
    "rfm_vals_kmeans = rfm_vals[['Recency',\n",
    "                            'Frequency',\n",
    "                            'MonetaryValue',\n",
    "                            'Tenure']]"
   ]
  },
  {
   "cell_type": "code",
   "execution_count": null,
   "metadata": {},
   "outputs": [],
   "source": [
    "rfm_vals_log = pd.DataFrame(dict(zip('R F M T'.split(),\n",
    "                                     [recency_log.values,\n",
    "                                      frequency_log.values, \n",
    "                                      monetary_log.values, \n",
    "                                      tenure_log.values])))"
   ]
  },
  {
   "cell_type": "code",
   "execution_count": null,
   "metadata": {},
   "outputs": [],
   "source": [
    "from sklearn.preprocessing import StandardScaler\n",
    "\n",
    "scaler = StandardScaler()\n",
    "scaler.fit(rfm_vals_log)\n",
    "rfm_vals_norm = scaler.transform(rfm_vals_log)"
   ]
  },
  {
   "cell_type": "code",
   "execution_count": null,
   "metadata": {},
   "outputs": [],
   "source": [
    "rfm_vals_norm_df = pd.DataFrame(rfm_vals_norm,\n",
    "                                columns='R F M T'.split())"
   ]
  }
 ],
 "metadata": {
  "kernelspec": {
   "display_name": "PyBoot",
   "language": "python",
   "name": "pyboot"
  },
  "language_info": {
   "codemirror_mode": {
    "name": "ipython",
    "version": 3
   },
   "file_extension": ".py",
   "mimetype": "text/x-python",
   "name": "python",
   "nbconvert_exporter": "python",
   "pygments_lexer": "ipython3",
   "version": "3.7.9"
  }
 },
 "nbformat": 4,
 "nbformat_minor": 4
}
